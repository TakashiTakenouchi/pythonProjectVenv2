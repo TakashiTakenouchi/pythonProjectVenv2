{
 "cells": [
  {
   "cell_type": "markdown",
   "source": [
    "https://github-com.translate.goog/Gurobi/modeling-examples/tree/master/price_optimization?_x_tr_sl=en&_x_tr_tl=ja&_x_tr_hl=ja&_x_tr_pto=sc\n",
    "https://gurobi--machinelearning-readthedocs-io.translate.goog/en/stable/mlm-examples/price_optimization.html?_x_tr_sl=en&_x_tr_tl=ja&_x_tr_hl=ja&_x_tr_pto=sc\n",
    "\n",
    "###ここではScikit-learn、回帰モデルと Gurobi Machine Learning を使用して Gurobi モデルに回帰を埋め込むことを狙っている\n",
    "###適切なアボカド価格を設定するには微妙なトレードオフが必要です。高く設定しすぎると、顧客を失います。安すぎると利益が出ません。\n",
    "###優れたデータがあれば、アボカドの価格設定と供給の問題は、最適化とデータ サイエンスの力を実証する機会に満ちています\n",
    "## 目標: アボカドの価格設定と流通のため、収益を最大化します。"
   ],
   "metadata": {
    "collapsed": false,
    "pycharm": {
     "name": "#%% md\n"
    }
   }
  },
  {
   "cell_type": "code",
   "execution_count": 1,
   "outputs": [],
   "source": [
    "import pandas as pd\n",
    "import warnings\n",
    "\n",
    "import matplotlib.pyplot as plt\n",
    "from sklearn import tree\n",
    "import seaborn as sns\n",
    "import sklearn\n",
    "import numpy as np"
   ],
   "metadata": {
    "collapsed": false,
    "pycharm": {
     "name": "#%%\n"
    }
   }
  },
  {
   "cell_type": "code",
   "execution_count": 2,
   "outputs": [
    {
     "name": "stdout",
     "output_type": "stream",
     "text": [
      "Python 3.9.6\n"
     ]
    }
   ],
   "source": [
    "import sys\n",
    "!python --version"
   ],
   "metadata": {
    "collapsed": false,
    "pycharm": {
     "name": "#%%\n"
    }
   }
  },
  {
   "cell_type": "markdown",
   "source": [
    "###HAB のデータセットには、2019 年から 2022 年の売上データが含まれています。このデータは、2015 年から 2018 年の売上高でKaggleで入手可能な\n",
    "###HAB からの以前のダウンロードによって補強されます。\n",
    "###データセットの各行は、週ごとのアボカド販売数と、地域およびアボカドの種類別に分類されたアボカドの週平均価格です。\n",
    "###アボカドには、従来型とオーガニックの 2 種類があります。このノートでは、従来のアボカドのみを検討します。\n",
    "###五大湖、ミッドサウス、ノースイースト、ニューイングランド北部、サウスセントラル、サウスイースト、ウェスト、プレーンズの 8 つの大きな地域があります。\n",
    "\n"
   ],
   "metadata": {
    "collapsed": false,
    "pycharm": {
     "name": "#%% md\n"
    }
   }
  },
  {
   "cell_type": "code",
   "execution_count": 2,
   "outputs": [
    {
     "data": {
      "text/plain": "           region          date          type     price  units_sold\n0     Great_Lakes   1/7/19 0:00  Conventional  1.106743  3812441.96\n1     Great_Lakes   1/7/19 0:00       Organic  1.371280   275987.52\n2     Great_Lakes  1/13/19 0:00  Conventional  1.063457  3843318.68\n3     Great_Lakes  1/13/19 0:00       Organic  1.493384   244991.95\n4     Great_Lakes  1/20/19 0:00  Conventional  1.049931  4587957.69\n...           ...           ...           ...       ...         ...\n3703         West      11/18/18       Organic  1.610000   334096.14\n3704         West      11/25/18  Conventional  1.240000  3260102.17\n3705         West      11/25/18       Organic  1.730000   268362.34\n3706         West       12/2/18  Conventional  1.200000  4594863.86\n3707         West       12/2/18       Organic  1.620000   268969.03\n\n[6804 rows x 5 columns]",
      "text/html": "<div>\n<style scoped>\n    .dataframe tbody tr th:only-of-type {\n        vertical-align: middle;\n    }\n\n    .dataframe tbody tr th {\n        vertical-align: top;\n    }\n\n    .dataframe thead th {\n        text-align: right;\n    }\n</style>\n<table border=\"1\" class=\"dataframe\">\n  <thead>\n    <tr style=\"text-align: right;\">\n      <th></th>\n      <th>region</th>\n      <th>date</th>\n      <th>type</th>\n      <th>price</th>\n      <th>units_sold</th>\n    </tr>\n  </thead>\n  <tbody>\n    <tr>\n      <th>0</th>\n      <td>Great_Lakes</td>\n      <td>1/7/19 0:00</td>\n      <td>Conventional</td>\n      <td>1.106743</td>\n      <td>3812441.96</td>\n    </tr>\n    <tr>\n      <th>1</th>\n      <td>Great_Lakes</td>\n      <td>1/7/19 0:00</td>\n      <td>Organic</td>\n      <td>1.371280</td>\n      <td>275987.52</td>\n    </tr>\n    <tr>\n      <th>2</th>\n      <td>Great_Lakes</td>\n      <td>1/13/19 0:00</td>\n      <td>Conventional</td>\n      <td>1.063457</td>\n      <td>3843318.68</td>\n    </tr>\n    <tr>\n      <th>3</th>\n      <td>Great_Lakes</td>\n      <td>1/13/19 0:00</td>\n      <td>Organic</td>\n      <td>1.493384</td>\n      <td>244991.95</td>\n    </tr>\n    <tr>\n      <th>4</th>\n      <td>Great_Lakes</td>\n      <td>1/20/19 0:00</td>\n      <td>Conventional</td>\n      <td>1.049931</td>\n      <td>4587957.69</td>\n    </tr>\n    <tr>\n      <th>...</th>\n      <td>...</td>\n      <td>...</td>\n      <td>...</td>\n      <td>...</td>\n      <td>...</td>\n    </tr>\n    <tr>\n      <th>3703</th>\n      <td>West</td>\n      <td>11/18/18</td>\n      <td>Organic</td>\n      <td>1.610000</td>\n      <td>334096.14</td>\n    </tr>\n    <tr>\n      <th>3704</th>\n      <td>West</td>\n      <td>11/25/18</td>\n      <td>Conventional</td>\n      <td>1.240000</td>\n      <td>3260102.17</td>\n    </tr>\n    <tr>\n      <th>3705</th>\n      <td>West</td>\n      <td>11/25/18</td>\n      <td>Organic</td>\n      <td>1.730000</td>\n      <td>268362.34</td>\n    </tr>\n    <tr>\n      <th>3706</th>\n      <td>West</td>\n      <td>12/2/18</td>\n      <td>Conventional</td>\n      <td>1.200000</td>\n      <td>4594863.86</td>\n    </tr>\n    <tr>\n      <th>3707</th>\n      <td>West</td>\n      <td>12/2/18</td>\n      <td>Organic</td>\n      <td>1.620000</td>\n      <td>268969.03</td>\n    </tr>\n  </tbody>\n</table>\n<p>6804 rows × 5 columns</p>\n</div>"
     },
     "execution_count": 2,
     "metadata": {},
     "output_type": "execute_result"
    }
   ],
   "source": [
    "data_url = \"https://raw.githubusercontent.com/Gurobi/modeling-examples/master/price_optimization/\"\n",
    "avocado = pd.read_csv(\n",
    "    data_url + \"HABdata_2019_2022.csv\"\n",
    ")  # dataset downloaded directly from HAB\n",
    "avocado_old = pd.read_csv(\n",
    "    data_url + \"kaggledata_till2018.csv\"\n",
    ")  # dataset downloaded from Kaggle\n",
    "avocado = pd.concat([avocado, avocado_old])\n",
    "avocado\n",
    "\n"
   ],
   "metadata": {
    "collapsed": false,
    "pycharm": {
     "name": "#%%\n"
    }
   }
  },
  {
   "cell_type": "markdown",
   "source": [
    "## データセットを準備する\n",
    "###次に、売上予測を行うためのデータを準備します。年と季節の新しい列をデータフレームに追加します。2015 年から 2022 年までの各年に、\n",
    "###年の昇順で 0 から 7 までのインデックスを与えるとします。ピーク シーズンを 2 月から 7 月までと定義します。\n",
    "###これらの月は傾向の目視検査に基づいて設定されますが、他の月を設定することもできます。"
   ],
   "metadata": {
    "collapsed": false,
    "pycharm": {
     "name": "#%% md\n"
    }
   }
  },
  {
   "cell_type": "code",
   "execution_count": 3,
   "outputs": [
    {
     "data": {
      "text/plain": "           date  units_sold     price                region  year  month  peak\n0    2015-01-04    3.382800  1.020000           Great_Lakes  2015      1     0\n1    2015-01-04    2.578275  1.100000              Midsouth  2015      1     0\n2    2015-01-04    5.794411  0.890000                  West  2015      1     0\n3    2015-01-04    3.204112  0.980000             Southeast  2015      1     0\n4    2015-01-04    0.321824  1.050000  Northern_New_England  2015      1     0\n...         ...         ...       ...                   ...   ...    ...   ...\n3397 2022-05-15    4.150433  1.269883          SouthCentral  2022      5     1\n3398 2022-05-15    4.668815  1.644873             Northeast  2022      5     1\n3399 2022-05-15   32.745321  1.527357              Total_US  2022      5     1\n3400 2022-05-15    3.542902  1.514583              Midsouth  2022      5     1\n3401 2022-05-15    1.560202  1.541429                Plains  2022      5     1\n\n[3402 rows x 7 columns]",
      "text/html": "<div>\n<style scoped>\n    .dataframe tbody tr th:only-of-type {\n        vertical-align: middle;\n    }\n\n    .dataframe tbody tr th {\n        vertical-align: top;\n    }\n\n    .dataframe thead th {\n        text-align: right;\n    }\n</style>\n<table border=\"1\" class=\"dataframe\">\n  <thead>\n    <tr style=\"text-align: right;\">\n      <th></th>\n      <th>date</th>\n      <th>units_sold</th>\n      <th>price</th>\n      <th>region</th>\n      <th>year</th>\n      <th>month</th>\n      <th>peak</th>\n    </tr>\n  </thead>\n  <tbody>\n    <tr>\n      <th>0</th>\n      <td>2015-01-04</td>\n      <td>3.382800</td>\n      <td>1.020000</td>\n      <td>Great_Lakes</td>\n      <td>2015</td>\n      <td>1</td>\n      <td>0</td>\n    </tr>\n    <tr>\n      <th>1</th>\n      <td>2015-01-04</td>\n      <td>2.578275</td>\n      <td>1.100000</td>\n      <td>Midsouth</td>\n      <td>2015</td>\n      <td>1</td>\n      <td>0</td>\n    </tr>\n    <tr>\n      <th>2</th>\n      <td>2015-01-04</td>\n      <td>5.794411</td>\n      <td>0.890000</td>\n      <td>West</td>\n      <td>2015</td>\n      <td>1</td>\n      <td>0</td>\n    </tr>\n    <tr>\n      <th>3</th>\n      <td>2015-01-04</td>\n      <td>3.204112</td>\n      <td>0.980000</td>\n      <td>Southeast</td>\n      <td>2015</td>\n      <td>1</td>\n      <td>0</td>\n    </tr>\n    <tr>\n      <th>4</th>\n      <td>2015-01-04</td>\n      <td>0.321824</td>\n      <td>1.050000</td>\n      <td>Northern_New_England</td>\n      <td>2015</td>\n      <td>1</td>\n      <td>0</td>\n    </tr>\n    <tr>\n      <th>...</th>\n      <td>...</td>\n      <td>...</td>\n      <td>...</td>\n      <td>...</td>\n      <td>...</td>\n      <td>...</td>\n      <td>...</td>\n    </tr>\n    <tr>\n      <th>3397</th>\n      <td>2022-05-15</td>\n      <td>4.150433</td>\n      <td>1.269883</td>\n      <td>SouthCentral</td>\n      <td>2022</td>\n      <td>5</td>\n      <td>1</td>\n    </tr>\n    <tr>\n      <th>3398</th>\n      <td>2022-05-15</td>\n      <td>4.668815</td>\n      <td>1.644873</td>\n      <td>Northeast</td>\n      <td>2022</td>\n      <td>5</td>\n      <td>1</td>\n    </tr>\n    <tr>\n      <th>3399</th>\n      <td>2022-05-15</td>\n      <td>32.745321</td>\n      <td>1.527357</td>\n      <td>Total_US</td>\n      <td>2022</td>\n      <td>5</td>\n      <td>1</td>\n    </tr>\n    <tr>\n      <th>3400</th>\n      <td>2022-05-15</td>\n      <td>3.542902</td>\n      <td>1.514583</td>\n      <td>Midsouth</td>\n      <td>2022</td>\n      <td>5</td>\n      <td>1</td>\n    </tr>\n    <tr>\n      <th>3401</th>\n      <td>2022-05-15</td>\n      <td>1.560202</td>\n      <td>1.541429</td>\n      <td>Plains</td>\n      <td>2022</td>\n      <td>5</td>\n      <td>1</td>\n    </tr>\n  </tbody>\n</table>\n<p>3402 rows × 7 columns</p>\n</div>"
     },
     "execution_count": 3,
     "metadata": {},
     "output_type": "execute_result"
    }
   ],
   "source": [
    "# Add the index for each year from 2015 through 2022\n",
    "avocado[\"date\"] = pd.to_datetime(avocado[\"date\"])\n",
    "avocado[\"year\"] = pd.DatetimeIndex(avocado[\"date\"]).year\n",
    "avocado = avocado.sort_values(by=\"date\")\n",
    "\n",
    "# Define the peak season\n",
    "avocado[\"month\"] = pd.DatetimeIndex(avocado[\"date\"]).month\n",
    "peak_months = range(2, 8)  # <--------- Set the months for the \"peak season\"\n",
    "\n",
    "\n",
    "def peak_season(row):\n",
    "    return 1 if int(row[\"month\"]) in peak_months else 0\n",
    "\n",
    "\n",
    "avocado[\"peak\"] = avocado.apply(lambda row: peak_season(row), axis=1)\n",
    "\n",
    "# Scale the number of avocados to millions\n",
    "avocado[\"units_sold\"] = avocado[\"units_sold\"] / 1000000\n",
    "\n",
    "# Select only conventional avocados\n",
    "avocado = avocado[avocado[\"type\"] == \"Conventional\"]\n",
    "\n",
    "avocado = avocado[\n",
    "    [\"date\", \"units_sold\", \"price\", \"region\", \"year\", \"month\", \"peak\"]\n",
    "].reset_index(drop=True)\n",
    "\n",
    "avocado\n"
   ],
   "metadata": {
    "collapsed": false,
    "pycharm": {
     "name": "#%%\n"
    }
   }
  },
  {
   "cell_type": "markdown",
   "source": [
    "## パート 1: データの傾向を観察する\n",
    "ここで、時間と季節の売上傾向を推測します。簡単にするために、米国全体のデータを使用してみましょう。"
   ],
   "metadata": {
    "collapsed": false,
    "pycharm": {
     "name": "#%% md\n"
    }
   }
  },
  {
   "cell_type": "code",
   "execution_count": 4,
   "outputs": [],
   "source": [
    "df_Total_US = avocado[avocado[\"region\"] == \"Total_US\"]\n"
   ],
   "metadata": {
    "collapsed": false,
    "pycharm": {
     "name": "#%%\n"
    }
   }
  },
  {
   "cell_type": "code",
   "execution_count": 5,
   "outputs": [
    {
     "data": {
      "text/plain": "<Figure size 720x360 with 1 Axes>",
      "image/png": "[encoded data removed]"
     },
     "metadata": {
      "needs_background": "light"
     },
     "output_type": "display_data"
    }
   ],
   "source": [
    "fig, axes = plt.subplots(nrows=1, ncols=1, figsize=(10, 5))\n",
    "\n",
    "mean = df_Total_US.groupby(\"year\")[\"units_sold\"].mean()\n",
    "std = df_Total_US.groupby(\"year\")[\"units_sold\"].std()\n",
    "axes.errorbar(mean.index, mean, xerr=0.5, yerr=2 * std, linestyle=\"\")\n",
    "axes.set_ylabel(\"Units Sold (millions)\")\n",
    "axes.set_xlabel(\"Year\")\n",
    "\n",
    "fig.tight_layout()\n"
   ],
   "metadata": {
    "collapsed": false,
    "pycharm": {
     "name": "#%%\n"
    }
   }
  },
  {
   "cell_type": "markdown",
   "source": [
    "#### 売上高は、わずかではありますが、一般的に年々増加していることがわかります。2019 年の落ち込みは、十分に文書化された2019 年のアボカド不足の影響で、アボカドの価格がほぼ 2 倍になりました。\n",
    "\n",
    "## 季節性\n",
    "#### ここで1年以内の販売動向を確認します"
   ],
   "metadata": {
    "collapsed": false,
    "pycharm": {
     "name": "#%% md\n"
    }
   }
  },
  {
   "cell_type": "code",
   "execution_count": 6,
   "outputs": [
    {
     "data": {
      "text/plain": "<Figure size 720x360 with 1 Axes>",
      "image/png": "[encoded data removed]"
     },
     "metadata": {
      "needs_background": "light"
     },
     "output_type": "display_data"
    }
   ],
   "source": [
    "fig, axes = plt.subplots(nrows=1, ncols=1, figsize=(10, 5))\n",
    "\n",
    "mean = df_Total_US.groupby(\"month\")[\"units_sold\"].mean()\n",
    "std = df_Total_US.groupby(\"month\")[\"units_sold\"].std()\n",
    "\n",
    "axes.errorbar(mean.index, mean, xerr=0.5, yerr=2 * std, linestyle=\"\")\n",
    "axes.set_ylabel(\"Units Sold (millions)\")\n",
    "axes.set_xlabel(\"Month\")\n",
    "\n",
    "fig.tight_layout()\n",
    "\n",
    "plt.xlabel(\"Month\")\n",
    "axes.set_xticks(range(1, 13))\n",
    "plt.ylabel(\"Units sold (millions)\")\n",
    "plt.show()\n"
   ],
   "metadata": {
    "collapsed": false,
    "pycharm": {
     "name": "#%%\n"
    }
   }
  },
  {
   "cell_type": "code",
   "execution_count": 7,
   "outputs": [
    {
     "data": {
      "text/plain": "<Figure size 1080x360 with 2 Axes>",
      "image/png": "[encoded data removed]"
     },
     "metadata": {
      "needs_background": "light"
     },
     "output_type": "display_data"
    }
   ],
   "source": [
    "fig, axes = plt.subplots(nrows=1, ncols=1, figsize=(15, 5))\n",
    "sns.heatmap(\n",
    "    df_Total_US[[\"units_sold\", \"price\", \"year\", \"peak\"]].corr(),\n",
    "    annot=True,\n",
    "    center=0,\n",
    "    ax=axes,\n",
    ")\n",
    "\n",
    "axes.set_title(\"Correlations for conventional avocados\")\n",
    "plt.show()\n"
   ],
   "metadata": {
    "collapsed": false,
    "pycharm": {
     "name": "#%%\n"
    }
   }
  },
  {
   "cell_type": "markdown",
   "source": [
    "#### 販売数量はアボカドあたりの価格と負の相関があります。販売数量は、年とシーズンが繁忙期であることに正の相関があります。\n",
    "\n"
   ],
   "metadata": {
    "collapsed": false,
    "pycharm": {
     "name": "#%% md\n"
    }
   }
  },
  {
   "cell_type": "markdown",
   "source": [
    "## 地域\n",
    "最後に、地域によって売上がどのように異なるかを見ていきます。これにより、各地域に供給したいアボカドの数が決まります。\n"
   ],
   "metadata": {
    "collapsed": false,
    "pycharm": {
     "name": "#%% md\n"
    }
   }
  },
  {
   "cell_type": "code",
   "execution_count": 8,
   "outputs": [
    {
     "data": {
      "text/plain": "<Figure size 720x360 with 1 Axes>",
      "image/png": "[encoded data removed]"
     },
     "metadata": {
      "needs_background": "light"
     },
     "output_type": "display_data"
    }
   ],
   "source": [
    "fig, axes = plt.subplots(nrows=1, ncols=1, figsize=(10, 5))\n",
    "\n",
    "regions = [\n",
    "    \"Great_Lakes\",\n",
    "    \"Midsouth\",\n",
    "    \"Northeast\",\n",
    "    \"Northern_New_England\",\n",
    "    \"SouthCentral\",\n",
    "    \"Southeast\",\n",
    "    \"West\",\n",
    "    \"Plains\",\n",
    "]\n",
    "df = avocado[avocado.region.isin(regions)]\n",
    "\n",
    "mean = df.groupby(\"region\")[\"units_sold\"].mean()\n",
    "std = df.groupby(\"region\")[\"units_sold\"].std()\n",
    "\n",
    "axes.errorbar(range(len(mean)), mean, xerr=0.5, yerr=2 * std, linestyle=\"\")\n",
    "\n",
    "fig.tight_layout()\n",
    "\n",
    "plt.xlabel(\"Region\")\n",
    "plt.xticks(range(len(mean)), pd.DataFrame(mean)[\"units_sold\"].index, rotation=20)\n",
    "plt.ylabel(\"Units sold (millions)\")\n",
    "plt.show()\n"
   ],
   "metadata": {
    "collapsed": false,
    "pycharm": {
     "name": "#%%\n"
    }
   }
  },
  {
   "cell_type": "markdown",
   "source": [
    "明らかに、西海岸の人はアボカドが大好きです。\n",
    "## パート II: 売上を予測する\n",
    "\n",
    "#### パート I で観察された傾向は、独立変数 (価格、年、地域、および季節性) を使用して販売の予測モデルを構築する動機となります。以降、販売数量を予測需要と呼びます。\n",
    "#### 回帰モデルを検証するために、データセットをランダムに分割します。トレーニングとデータをテストしScikit-learnを使用して重みを学習します\n",
    "\n"
   ],
   "metadata": {
    "collapsed": false,
    "pycharm": {
     "name": "#%% md\n"
    }
   }
  },
  {
   "cell_type": "code",
   "execution_count": 9,
   "outputs": [],
   "source": [
    "from sklearn.model_selection import train_test_split\n",
    "\n",
    "X = df[[\"region\", \"price\", \"year\", \"peak\"]]\n",
    "y = df[\"units_sold\"]\n",
    "# Split the data for training and testing\n",
    "X_train, X_test, y_train, y_test = train_test_split(\n",
    "    X, y, train_size=0.8, random_state=1\n",
    ")\n"
   ],
   "metadata": {
    "collapsed": false,
    "pycharm": {
     "name": "#%%\n"
    }
   }
  },
  {
   "cell_type": "code",
   "execution_count": 10,
   "outputs": [],
   "source": [
    "from sklearn.preprocessing import OneHotEncoder\n",
    "from sklearn.preprocessing import StandardScaler\n",
    "from sklearn.compose import make_column_transformer\n",
    "\n",
    "feat_transform = make_column_transformer(\n",
    "    (OneHotEncoder(drop=\"first\"), [\"region\"]),\n",
    "    (StandardScaler(), [\"price\", \"year\"]),\n",
    "    (\"passthrough\", [\"peak\"]),\n",
    "    verbose_feature_names_out=False,\n",
    "    remainder='drop'\n",
    ")\n"
   ],
   "metadata": {
    "collapsed": false,
    "pycharm": {
     "name": "#%%\n"
    }
   }
  },
  {
   "cell_type": "code",
   "execution_count": 11,
   "outputs": [
    {
     "name": "stdout",
     "output_type": "stream",
     "text": [
      "The R^2 value in the test set is 0.8982069358257863\n"
     ]
    }
   ],
   "source": [
    "from sklearn.linear_model import LinearRegression\n",
    "from sklearn.pipeline import make_pipeline\n",
    "from sklearn.metrics import r2_score\n",
    "\n",
    "lin_reg = make_pipeline(feat_transform, LinearRegression())\n",
    "lin_reg.fit(X_train, y_train)\n",
    "\n",
    "# Get R^2 from test data\n",
    "y_pred = lin_reg.predict(X_test)\n",
    "print(f\"The R^2 value in the test set is {r2_score(y_test, y_pred)}\")\n"
   ],
   "metadata": {
    "collapsed": false,
    "pycharm": {
     "name": "#%%\n"
    }
   }
  },
  {
   "cell_type": "code",
   "execution_count": 12,
   "outputs": [
    {
     "name": "stdout",
     "output_type": "stream",
     "text": [
      "The R^2 value in the full dataset is 0.9066729322212483\n"
     ]
    }
   ],
   "source": [
    "lin_reg.fit(X, y)\n",
    "\n",
    "y_pred_full = lin_reg.predict(X)\n",
    "print(f\"The R^2 value in the full dataset is {r2_score(y, y_pred_full)}\")\n"
   ],
   "metadata": {
    "collapsed": false,
    "pycharm": {
     "name": "#%%\n"
    }
   }
  },
  {
   "cell_type": "markdown",
   "source": [
    "パート III: アボカドの価格と供給を最適化する\n",
    "アボカドの価格が需要にどのように影響するかがわかった場合、アボカドの最適な価格を設定するにはどうすればよいでしょうか? 価格を高く設定しすぎると、需要と売上が減少する可能性があるため、設定したくありません。同時に、価格を低く設定しすぎると、収益を最大化する際に最適ではない可能性があります. では、スイートスポットとは何ですか？\n",
    "\n",
    "流通ロジスティクスでは、地域全体で十分な量のアボカドがあることを確認したいと考えています。これらの考慮事項は、数学的最適化モデルで対処できます。最適化モデルは、解が一連の制約を満たすように、目的関数に従って最適な解を見つけます。ここで、解は決定変数と呼ばれる実数値または整数値のベクトルとして表されます。制約は、決定変数の関数として記述された一連の方程式または不等式です。\n",
    "\n",
    "毎週の初めに、利用可能な製品の総数が有限であると想定します。純収益を最大化しながら、この数量をさまざまな地域に分配する必要があります。つまり、各地域のアボカドの価格と、各地域に割り当てられるアボカドの数です。\n",
    "\n",
    "モデルの作成に使用されるいくつかの入力パラメータと表記法を定義しましょう。下付き文字\n",
    "は、各地域を表すために使用されます。\n",
    "\n",
    "入力パラメータ\n",
    "\n",
    "R:領域のセット、\n",
    "\n",
    "d(p,r): 地域の予測需要  <mi>r</mi>\n",
    "  <mo>∈</mo>\n",
    "  <mi>R</mi>\n",
    "製品あたりのアボカドがp\n",
    "、\n",
    "\n",
    "B: 地域全体に配布される利用可能なアボカド、\n",
    "\n",
    "c_{waste}： 費用 （) 廃棄されたアボカドあたり、\n",
    "\n",
    "c^r_{transport}： 費用 （）アボカドを地域に輸送するr \\in R\n",
    "、\n",
    "\n",
    ": 最低価格と最高価格 (\n",
    ") れいごんのアボカドあたり\n",
    "、\n",
    "\n",
    ": 地域に割り当てられるアボカドの最小数と最大数\n",
    "、\n",
    "\n",
    "次のコードは、Gurobi python パッケージをロードし、最適化モデルを開始します。の値\n",
    "に設定されています\n",
    "100 万個のアボカド。これは、データからの週あたりの平均供給値に近い値です。例として、2021 年のピーク シーズンを考えてみましょう。アボカドを無駄にするコストは、\n",
    ". アボカドの輸送コストは\n",
    "に\n",
    "アボカドの供給の大部分が行われる南部の国境からの各地域の距離に基づいています。さらに、アボカドの価格を超えないように設定できます\n",
    "各個に。\n",
    "\n"
   ],
   "metadata": {
    "collapsed": false,
    "pycharm": {
     "name": "#%% md\n"
    }
   }
  },
  {
   "cell_type": "code",
   "execution_count": 13,
   "outputs": [],
   "source": [
    "# Sets and parameters\n",
    "B = 30  # total amount ot avocado supply\n",
    "\n",
    "peak_or_not = 1  # 1 if it is the peak season; 1 if isn't\n",
    "year = 2022\n",
    "\n",
    "c_waste = 0.1  # the cost ($) of wasting an avocado\n",
    "\n",
    "# the cost of transporting an avocado\n",
    "c_transport = pd.Series(\n",
    "    {\n",
    "        \"Great_Lakes\": 0.3,\n",
    "        \"Midsouth\": 0.1,\n",
    "        \"Northeast\": 0.4,\n",
    "        \"Northern_New_England\": 0.5,\n",
    "        \"SouthCentral\": 0.3,\n",
    "        \"Southeast\": 0.2,\n",
    "        \"West\": 0.2,\n",
    "        \"Plains\": 0.2,\n",
    "    }, name='transport_cost'\n",
    ")\n",
    "\n",
    "c_transport = c_transport.loc[regions]\n",
    "# the cost of transporting an avocado\n",
    "\n",
    "# Get the lower and upper bounds from the dataset for the price and the number of products to be stocked\n",
    "a_min = 0  # minimum avocado price in each region\n",
    "a_max = 2  # maximum avocado price in each region\n",
    "\n",
    "data = pd.concat([c_transport,\n",
    "                  df.groupby(\"region\")[\"units_sold\"].min().rename('min_delivery'),\n",
    "                  df.groupby(\"region\")[\"units_sold\"].max().rename('max_delivery')], axis=1)"
   ],
   "metadata": {
    "collapsed": false,
    "pycharm": {
     "name": "#%%\n"
    }
   }
  },
  {
   "cell_type": "code",
   "execution_count": 14,
   "outputs": [
    {
     "data": {
      "text/plain": "                      transport_cost  min_delivery  max_delivery\nGreat_Lakes                      0.3      2.063574      7.094765\nMidsouth                         0.1      1.845443      6.168572\nNortheast                        0.4      2.364424      8.836406\nNorthern_New_England             0.5      0.219690      0.917984\nSouthCentral                     0.3      3.687130     10.323175\nSoutheast                        0.2      2.197764      7.810475\nWest                             0.2      3.260102     11.274749\nPlains                           0.2      1.058938      3.575499",
      "text/html": "<div>\n<style scoped>\n    .dataframe tbody tr th:only-of-type {\n        vertical-align: middle;\n    }\n\n    .dataframe tbody tr th {\n        vertical-align: top;\n    }\n\n    .dataframe thead th {\n        text-align: right;\n    }\n</style>\n<table border=\"1\" class=\"dataframe\">\n  <thead>\n    <tr style=\"text-align: right;\">\n      <th></th>\n      <th>transport_cost</th>\n      <th>min_delivery</th>\n      <th>max_delivery</th>\n    </tr>\n  </thead>\n  <tbody>\n    <tr>\n      <th>Great_Lakes</th>\n      <td>0.3</td>\n      <td>2.063574</td>\n      <td>7.094765</td>\n    </tr>\n    <tr>\n      <th>Midsouth</th>\n      <td>0.1</td>\n      <td>1.845443</td>\n      <td>6.168572</td>\n    </tr>\n    <tr>\n      <th>Northeast</th>\n      <td>0.4</td>\n      <td>2.364424</td>\n      <td>8.836406</td>\n    </tr>\n    <tr>\n      <th>Northern_New_England</th>\n      <td>0.5</td>\n      <td>0.219690</td>\n      <td>0.917984</td>\n    </tr>\n    <tr>\n      <th>SouthCentral</th>\n      <td>0.3</td>\n      <td>3.687130</td>\n      <td>10.323175</td>\n    </tr>\n    <tr>\n      <th>Southeast</th>\n      <td>0.2</td>\n      <td>2.197764</td>\n      <td>7.810475</td>\n    </tr>\n    <tr>\n      <th>West</th>\n      <td>0.2</td>\n      <td>3.260102</td>\n      <td>11.274749</td>\n    </tr>\n    <tr>\n      <th>Plains</th>\n      <td>0.2</td>\n      <td>1.058938</td>\n      <td>3.575499</td>\n    </tr>\n  </tbody>\n</table>\n</div>"
     },
     "execution_count": 14,
     "metadata": {},
     "output_type": "execute_result"
    }
   ],
   "source": [
    "data"
   ],
   "metadata": {
    "collapsed": false,
    "pycharm": {
     "name": "#%%\n"
    }
   }
  },
  {
   "cell_type": "markdown",
   "source": [
    "pandas データを使用して gurobipy モデルをより簡単に作成するのに役立つ gurobipy-pandas を使用します。\n",
    "\n",
    "まず、最適化問題で修正された機能を含むデータフレームを作成します。これは地域によって索引付けされ (各地域の需要を予測するために 1 つの回帰を使用したい)、固定機能に対応する 3 つの列があります。\n",
    "\n",
    "・year\n",
    "・peakの値でpeak_or_not\n",
    "・region地域の名前を繰り返します。\n",
    "\n",
    "データフレームを表示して、正しいことを確認します"
   ],
   "metadata": {
    "collapsed": false,
    "pycharm": {
     "name": "#%% md\n"
    }
   }
  },
  {
   "cell_type": "code",
   "execution_count": null,
   "outputs": [],
   "source": [
    "import gurobipy\n",
    "import gurobipy_pandas as gppd\n",
    "feats = pd.DataFrame(\n",
    "    data={\n",
    "        \"year\": year,\n",
    "        \"peak\": peak_or_not,\n",
    "        \"region\": regions,\n",
    "    },\n",
    "    index=regions\n",
    ")\n",
    "feats\n"
   ],
   "metadata": {
    "collapsed": false,
    "pycharm": {
     "name": "#%%\n"
    }
   }
  },
  {
   "cell_type": "code",
   "execution_count": 16,
   "outputs": [
    {
     "data": {
      "text/plain": "Great_Lakes                      <gurobi.Var price[Great_Lakes]>\nMidsouth                            <gurobi.Var price[Midsouth]>\nNortheast                          <gurobi.Var price[Northeast]>\nNorthern_New_England    <gurobi.Var price[Northern_New_England]>\nSouthCentral                    <gurobi.Var price[SouthCentral]>\nSoutheast                          <gurobi.Var price[Southeast]>\nWest                                    <gurobi.Var price[West]>\nPlains                                <gurobi.Var price[Plains]>\nName: price, dtype: object"
     },
     "execution_count": 16,
     "metadata": {},
     "output_type": "execute_result"
    }
   ],
   "source": [
    "import gurobipy as gp\n",
    "\n",
    "m = gp.Model(\"Avocado_Price_Allocation\")\n",
    "\n",
    "p = gppd.add_vars(m, data, name=\"price\", lb=a_min, ub=a_max)\n",
    "x = gppd.add_vars(m, data, name=\"x\", lb='min_delivery', ub='max_delivery')\n",
    "s = gppd.add_vars(m, data, name=\"s\") # predicted amount of sales in each region for the given price).\n",
    "w = gppd.add_vars(m, data, name=\"w\") # excess wasteage in each region).\n",
    "d = gppd.add_vars(m, data, lb=-gp.GRB.INFINITY, name=\"demand\") # Add variables for the regression\n",
    "\n",
    "m.update()\n",
    "\n",
    "# Display one of the variables\n",
    "p\n"
   ],
   "metadata": {
    "collapsed": false,
    "pycharm": {
     "name": "#%%\n"
    }
   }
  },
  {
   "cell_type": "code",
   "execution_count": 17,
   "outputs": [],
   "source": [
    "m.setObjective((p * s).sum() - c_waste * w.sum() - (c_transport * x).sum(),\n",
    "               gp.GRB.MAXIMIZE)"
   ],
   "metadata": {
    "collapsed": false,
    "pycharm": {
     "name": "#%%\n"
    }
   }
  },
  {
   "cell_type": "code",
   "execution_count": 18,
   "outputs": [],
   "source": [
    "m.addConstr(x.sum() == B)\n",
    "m.update()"
   ],
   "metadata": {
    "collapsed": false,
    "pycharm": {
     "name": "#%%\n"
    }
   }
  },
  {
   "cell_type": "code",
   "execution_count": 19,
   "outputs": [],
   "source": [
    "gppd.add_constrs(m, s, gp.GRB.LESS_EQUAL, x)\n",
    "gppd.add_constrs(m, s, gp.GRB.LESS_EQUAL, d)\n",
    "m.update()"
   ],
   "metadata": {
    "collapsed": false,
    "pycharm": {
     "name": "#%%\n"
    }
   }
  },
  {
   "cell_type": "code",
   "execution_count": 20,
   "outputs": [],
   "source": [
    "gppd.add_constrs(m, w, gp.GRB.EQUAL, x - s)\n",
    "m.update()"
   ],
   "metadata": {
    "collapsed": false,
    "pycharm": {
     "name": "#%%\n"
    }
   }
  },
  {
   "cell_type": "code",
   "execution_count": 21,
   "outputs": [
    {
     "data": {
      "text/plain": "                                    region  \\\nGreat_Lakes                    Great_Lakes   \nMidsouth                          Midsouth   \nNortheast                        Northeast   \nNorthern_New_England  Northern_New_England   \nSouthCentral                  SouthCentral   \nSoutheast                        Southeast   \nWest                                  West   \nPlains                              Plains   \n\n                                                         price  year  peak  \nGreat_Lakes                    <gurobi.Var price[Great_Lakes]>  2022     1  \nMidsouth                          <gurobi.Var price[Midsouth]>  2022     1  \nNortheast                        <gurobi.Var price[Northeast]>  2022     1  \nNorthern_New_England  <gurobi.Var price[Northern_New_England]>  2022     1  \nSouthCentral                  <gurobi.Var price[SouthCentral]>  2022     1  \nSoutheast                        <gurobi.Var price[Southeast]>  2022     1  \nWest                                  <gurobi.Var price[West]>  2022     1  \nPlains                              <gurobi.Var price[Plains]>  2022     1  ",
      "text/html": "<div>\n<style scoped>\n    .dataframe tbody tr th:only-of-type {\n        vertical-align: middle;\n    }\n\n    .dataframe tbody tr th {\n        vertical-align: top;\n    }\n\n    .dataframe thead th {\n        text-align: right;\n    }\n</style>\n<table border=\"1\" class=\"dataframe\">\n  <thead>\n    <tr style=\"text-align: right;\">\n      <th></th>\n      <th>region</th>\n      <th>price</th>\n      <th>year</th>\n      <th>peak</th>\n    </tr>\n  </thead>\n  <tbody>\n    <tr>\n      <th>Great_Lakes</th>\n      <td>Great_Lakes</td>\n      <td>&lt;gurobi.Var price[Great_Lakes]&gt;</td>\n      <td>2022</td>\n      <td>1</td>\n    </tr>\n    <tr>\n      <th>Midsouth</th>\n      <td>Midsouth</td>\n      <td>&lt;gurobi.Var price[Midsouth]&gt;</td>\n      <td>2022</td>\n      <td>1</td>\n    </tr>\n    <tr>\n      <th>Northeast</th>\n      <td>Northeast</td>\n      <td>&lt;gurobi.Var price[Northeast]&gt;</td>\n      <td>2022</td>\n      <td>1</td>\n    </tr>\n    <tr>\n      <th>Northern_New_England</th>\n      <td>Northern_New_England</td>\n      <td>&lt;gurobi.Var price[Northern_New_England]&gt;</td>\n      <td>2022</td>\n      <td>1</td>\n    </tr>\n    <tr>\n      <th>SouthCentral</th>\n      <td>SouthCentral</td>\n      <td>&lt;gurobi.Var price[SouthCentral]&gt;</td>\n      <td>2022</td>\n      <td>1</td>\n    </tr>\n    <tr>\n      <th>Southeast</th>\n      <td>Southeast</td>\n      <td>&lt;gurobi.Var price[Southeast]&gt;</td>\n      <td>2022</td>\n      <td>1</td>\n    </tr>\n    <tr>\n      <th>West</th>\n      <td>West</td>\n      <td>&lt;gurobi.Var price[West]&gt;</td>\n      <td>2022</td>\n      <td>1</td>\n    </tr>\n    <tr>\n      <th>Plains</th>\n      <td>Plains</td>\n      <td>&lt;gurobi.Var price[Plains]&gt;</td>\n      <td>2022</td>\n      <td>1</td>\n    </tr>\n  </tbody>\n</table>\n</div>"
     },
     "execution_count": 21,
     "metadata": {},
     "output_type": "execute_result"
    }
   ],
   "source": [
    "feats = pd.concat([feats, p], axis=1)[[\"region\", \"price\", \"year\", \"peak\"]]\n",
    "\n",
    "\n",
    "feats"
   ],
   "metadata": {
    "collapsed": false,
    "pycharm": {
     "name": "#%%\n"
    }
   }
  },
  {
   "cell_type": "code",
   "execution_count": 22,
   "outputs": [
    {
     "name": "stdout",
     "output_type": "stream",
     "text": [
      "Model for pipe1:\n",
      "88 variables\n",
      "24 constraints\n",
      "Input has shape (8, 4)\n",
      "Output has shape (8, 1)\n",
      "\n",
      "Pipeline has 2 steps:\n",
      "\n",
      "--------------------------------------------------------------------------------\n",
      "Step            Output Shape    Variables              Constraints              \n",
      "                                                Linear    Quadratic      General\n",
      "================================================================================\n",
      "col_trans1           (8, 10)           24           16            0            0\n",
      "\n",
      "lin_reg1              (8, 1)           64            8            0            0\n",
      "\n",
      "--------------------------------------------------------------------------------\n"
     ]
    }
   ],
   "source": [
    "# from gurobi_ml import add_predictor_constr\n",
    "from gurobi_ml import add_predictor_constr\n",
    "pred_constr = add_predictor_constr(m, lin_reg, feats, d)\n",
    "\n",
    "pred_constr.print_stats()\n"
   ],
   "metadata": {
    "collapsed": false,
    "pycharm": {
     "name": "#%%\n"
    }
   }
  },
  {
   "cell_type": "code",
   "execution_count": 23,
   "outputs": [
    {
     "name": "stdout",
     "output_type": "stream",
     "text": [
      "Set parameter NonConvex to value 2\n",
      "Gurobi Optimizer version 10.0.0 build v10.0.0rc2 (win64)\n",
      "\n",
      "CPU model: Intel(R) Xeon(R) W-10885M CPU @ 2.40GHz, instruction set [SSE2|AVX|AVX2]\n",
      "Thread count: 8 physical cores, 16 logical processors, using up to 16 threads\n",
      "\n",
      "Optimize a model with 49 rows, 128 columns and 184 nonzeros\n",
      "Model fingerprint: 0x37c19207\n",
      "Model has 8 quadratic objective terms\n",
      "Coefficient statistics:\n",
      "  Matrix range     [2e-01, 3e+00]\n",
      "  Objective range  [1e-01, 5e-01]\n",
      "  QObjective range [2e+00, 2e+00]\n",
      "  Bounds range     [2e-01, 2e+03]\n",
      "  RHS range        [1e+00, 2e+03]\n",
      "Presolve removed 24 rows and 96 columns\n",
      "\n",
      "Continuous model is non-convex -- solving as a MIP\n",
      "\n",
      "Presolve removed 32 rows and 104 columns\n",
      "Presolve time: 0.01s\n",
      "Presolved: 34 rows, 33 columns, 81 nonzeros\n",
      "Presolved model has 8 bilinear constraint(s)\n",
      "Variable types: 33 continuous, 0 integer (0 binary)\n",
      "\n",
      "Root relaxation: objective 5.288486e+01, 36 iterations, 0.00 seconds (0.00 work units)\n",
      "\n",
      "    Nodes    |    Current Node    |     Objective Bounds      |     Work\n",
      " Expl Unexpl |  Obj  Depth IntInf | Incumbent    BestBd   Gap | It/Node Time\n",
      "\n",
      "     0     0   52.88486    0    8          -   52.88486      -     -    0s\n",
      "H    0     0                      29.5452368   52.88486  79.0%     -    0s\n",
      "H    0     0                      42.5082914   52.88486  24.4%     -    0s\n",
      "     0     0   47.12254    0    8   42.50829   47.12254  10.9%     -    0s\n",
      "     0     0   43.44074    0    8   42.50829   43.44074  2.19%     -    0s\n",
      "     0     0   42.65013    0    8   42.50829   42.65013  0.33%     -    0s\n",
      "     0     0   42.55582    0    8   42.50829   42.55582  0.11%     -    0s\n",
      "     0     0   42.52209    0    8   42.50829   42.52209  0.03%     -    0s\n",
      "     0     0   42.51999    0    8   42.50829   42.51999  0.03%     -    0s\n",
      "     0     0   42.51400    0    8   42.50829   42.51400  0.01%     -    0s\n",
      "     0     2   42.51400    0    8   42.50829   42.51400  0.01%     -    0s\n",
      "\n",
      "Cutting planes:\n",
      "  RLT: 16\n",
      "\n",
      "Explored 7 nodes (104 simplex iterations) in 0.07 seconds (0.00 work units)\n",
      "Thread count was 16 (of 16 available processors)\n",
      "\n",
      "Solution count 2: 42.5083 29.5452 \n",
      "\n",
      "Optimal solution found (tolerance 1.00e-04)\n",
      "Best objective 4.250829142540e+01, best bound 4.251093705635e+01, gap 0.0062%\n"
     ]
    }
   ],
   "source": [
    "m.Params.NonConvex = 2\n",
    "m.optimize()"
   ],
   "metadata": {
    "collapsed": false,
    "pycharm": {
     "name": "#%%\n"
    }
   }
  },
  {
   "cell_type": "code",
   "execution_count": 24,
   "outputs": [
    {
     "name": "stdout",
     "output_type": "stream",
     "text": [
      "\n",
      " The optimal net revenue: $42.508291 million\n"
     ]
    },
    {
     "data": {
      "text/plain": "                       Price  Allocated    Sold  Wasted  Pred_demand\nGreat_Lakes           1.6639     3.4464  3.4464  0.0000       3.4464\nMidsouth              1.5088     5.2723  3.5454  1.7268       3.5454\nNortheast             2.0000     4.1387  4.1387  0.0000       4.1387\nNorthern_New_England  1.4412     0.9180  0.9180  0.0000       0.9180\nSouthCentral          2.0000     4.4195  4.4195  0.0000       4.4195\nSoutheast             1.7464     3.8486  3.8486  0.0000       3.8486\nWest                  2.0000     5.3075  5.3075  0.0000       5.3075\nPlains                1.2021     2.6491  2.6491  0.0000       2.6491",
      "text/html": "<div>\n<style scoped>\n    .dataframe tbody tr th:only-of-type {\n        vertical-align: middle;\n    }\n\n    .dataframe tbody tr th {\n        vertical-align: top;\n    }\n\n    .dataframe thead th {\n        text-align: right;\n    }\n</style>\n<table border=\"1\" class=\"dataframe\">\n  <thead>\n    <tr style=\"text-align: right;\">\n      <th></th>\n      <th>Price</th>\n      <th>Allocated</th>\n      <th>Sold</th>\n      <th>Wasted</th>\n      <th>Pred_demand</th>\n    </tr>\n  </thead>\n  <tbody>\n    <tr>\n      <th>Great_Lakes</th>\n      <td>1.6639</td>\n      <td>3.4464</td>\n      <td>3.4464</td>\n      <td>0.0000</td>\n      <td>3.4464</td>\n    </tr>\n    <tr>\n      <th>Midsouth</th>\n      <td>1.5088</td>\n      <td>5.2723</td>\n      <td>3.5454</td>\n      <td>1.7268</td>\n      <td>3.5454</td>\n    </tr>\n    <tr>\n      <th>Northeast</th>\n      <td>2.0000</td>\n      <td>4.1387</td>\n      <td>4.1387</td>\n      <td>0.0000</td>\n      <td>4.1387</td>\n    </tr>\n    <tr>\n      <th>Northern_New_England</th>\n      <td>1.4412</td>\n      <td>0.9180</td>\n      <td>0.9180</td>\n      <td>0.0000</td>\n      <td>0.9180</td>\n    </tr>\n    <tr>\n      <th>SouthCentral</th>\n      <td>2.0000</td>\n      <td>4.4195</td>\n      <td>4.4195</td>\n      <td>0.0000</td>\n      <td>4.4195</td>\n    </tr>\n    <tr>\n      <th>Southeast</th>\n      <td>1.7464</td>\n      <td>3.8486</td>\n      <td>3.8486</td>\n      <td>0.0000</td>\n      <td>3.8486</td>\n    </tr>\n    <tr>\n      <th>West</th>\n      <td>2.0000</td>\n      <td>5.3075</td>\n      <td>5.3075</td>\n      <td>0.0000</td>\n      <td>5.3075</td>\n    </tr>\n    <tr>\n      <th>Plains</th>\n      <td>1.2021</td>\n      <td>2.6491</td>\n      <td>2.6491</td>\n      <td>0.0000</td>\n      <td>2.6491</td>\n    </tr>\n  </tbody>\n</table>\n</div>"
     },
     "execution_count": 24,
     "metadata": {},
     "output_type": "execute_result"
    }
   ],
   "source": [
    "solution = pd.DataFrame(index=regions)\n",
    "\n",
    "solution[\"Price\"] = p.gppd.X\n",
    "solution[\"Allocated\"] = x.gppd.X\n",
    "solution[\"Sold\"] = s.gppd.X\n",
    "solution[\"Wasted\"] = w.gppd.X\n",
    "solution[\"Pred_demand\"] = d.gppd.X\n",
    "\n",
    "opt_revenue = m.ObjVal\n",
    "print(\"\\n The optimal net revenue: $%f million\" % opt_revenue)\n",
    "solution.round(4)\n",
    "\n"
   ],
   "metadata": {
    "collapsed": false,
    "pycharm": {
     "name": "#%%\n"
    }
   }
  },
  {
   "cell_type": "code",
   "execution_count": 25,
   "outputs": [
    {
     "name": "stdout",
     "output_type": "stream",
     "text": [
      "Maximum error in approximating the regression 2.66454e-15\n"
     ]
    }
   ],
   "source": [
    "print(\n",
    "    \"Maximum error in approximating the regression {:.6}\".format(\n",
    "        np.max(pred_constr.get_error())\n",
    "    )\n",
    ")\n"
   ],
   "metadata": {
    "collapsed": false,
    "pycharm": {
     "name": "#%%\n"
    }
   }
  },
  {
   "cell_type": "code",
   "execution_count": 26,
   "outputs": [
    {
     "data": {
      "text/plain": "                         price  year  peak\nGreat_Lakes           1.663872  2022     1\nMidsouth              1.508809  2022     1\nNortheast                  2.0  2022     1\nNorthern_New_England  1.441157  2022     1\nSouthCentral               2.0  2022     1\nSoutheast              1.74637  2022     1\nWest                       2.0  2022     1\nPlains                 1.20207  2022     1",
      "text/html": "<div>\n<style scoped>\n    .dataframe tbody tr th:only-of-type {\n        vertical-align: middle;\n    }\n\n    .dataframe tbody tr th {\n        vertical-align: top;\n    }\n\n    .dataframe thead th {\n        text-align: right;\n    }\n</style>\n<table border=\"1\" class=\"dataframe\">\n  <thead>\n    <tr style=\"text-align: right;\">\n      <th></th>\n      <th>price</th>\n      <th>year</th>\n      <th>peak</th>\n    </tr>\n  </thead>\n  <tbody>\n    <tr>\n      <th>Great_Lakes</th>\n      <td>1.663872</td>\n      <td>2022</td>\n      <td>1</td>\n    </tr>\n    <tr>\n      <th>Midsouth</th>\n      <td>1.508809</td>\n      <td>2022</td>\n      <td>1</td>\n    </tr>\n    <tr>\n      <th>Northeast</th>\n      <td>2.0</td>\n      <td>2022</td>\n      <td>1</td>\n    </tr>\n    <tr>\n      <th>Northern_New_England</th>\n      <td>1.441157</td>\n      <td>2022</td>\n      <td>1</td>\n    </tr>\n    <tr>\n      <th>SouthCentral</th>\n      <td>2.0</td>\n      <td>2022</td>\n      <td>1</td>\n    </tr>\n    <tr>\n      <th>Southeast</th>\n      <td>1.74637</td>\n      <td>2022</td>\n      <td>1</td>\n    </tr>\n    <tr>\n      <th>West</th>\n      <td>2.0</td>\n      <td>2022</td>\n      <td>1</td>\n    </tr>\n    <tr>\n      <th>Plains</th>\n      <td>1.20207</td>\n      <td>2022</td>\n      <td>1</td>\n    </tr>\n  </tbody>\n</table>\n</div>"
     },
     "execution_count": 26,
     "metadata": {},
     "output_type": "execute_result"
    }
   ],
   "source": [
    "pred_constr.input_values.drop('region', axis=1)"
   ],
   "metadata": {
    "collapsed": false,
    "pycharm": {
     "name": "#%%\n"
    }
   }
  },
  {
   "cell_type": "code",
   "execution_count": 27,
   "outputs": [
    {
     "data": {
      "text/plain": "<Figure size 432x288 with 1 Axes>",
      "image/png": "[encoded data removed]"
     },
     "metadata": {
      "needs_background": "light"
     },
     "output_type": "display_data"
    },
    {
     "name": "stdout",
     "output_type": "stream",
     "text": [
      "The circles represent sales quantity and the cross markers represent the wasted quantity.\n"
     ]
    }
   ],
   "source": [
    "fig, ax = plt.subplots(1, 1)\n",
    "\n",
    "plot_sol = sns.scatterplot(data=solution, x=\"Price\", y=\"Sold\", hue=solution.index, s=100)\n",
    "plot_waste = sns.scatterplot(\n",
    "    data=solution, x=\"Price\", y=\"Wasted\", marker=\"x\", hue=solution.index, s=100, legend=False\n",
    ")\n",
    "\n",
    "plot_sol.legend(loc=\"center left\", bbox_to_anchor=(1.25, 0.5), ncol=1)\n",
    "plot_waste.legend(loc=\"center left\", bbox_to_anchor=(1.25, 0.5), ncol=1)\n",
    "plt.ylim(0, 5)\n",
    "plt.xlim(1, 2.2)\n",
    "ax.set_xlabel(\"Price per avocado ($)\")\n",
    "ax.set_ylabel(\"Number of avocados sold (millions)\")\n",
    "plt.show()\n",
    "print(\n",
    "    \"The circles represent sales quantity and the cross markers represent the wasted quantity.\"\n",
    ")"
   ],
   "metadata": {
    "collapsed": false,
    "pycharm": {
     "name": "#%%\n"
    }
   }
  },
  {
   "cell_type": "code",
   "execution_count": 27,
   "outputs": [],
   "source": [],
   "metadata": {
    "collapsed": false,
    "pycharm": {
     "name": "#%%\n"
    }
   }
  },
  {
   "cell_type": "code",
   "execution_count": 27,
   "outputs": [],
   "source": [],
   "metadata": {
    "collapsed": false,
    "pycharm": {
     "name": "#%%\n"
    }
   }
  },
  {
   "cell_type": "code",
   "execution_count": 27,
   "outputs": [],
   "source": [],
   "metadata": {
    "collapsed": false,
    "pycharm": {
     "name": "#%%\n"
    }
   }
  },
  {
   "cell_type": "code",
   "execution_count": 27,
   "metadata": {
    "collapsed": true
   },
   "outputs": [],
   "source": []
  }
 ],
 "metadata": {
  "kernelspec": {
   "display_name": "Python 3",
   "language": "python",
   "name": "python3"
  },
  "language_info": {
   "codemirror_mode": {
    "name": "ipython",
    "version": 2
   },
   "file_extension": ".py",
   "mimetype": "text/x-python",
   "name": "python",
   "nbconvert_exporter": "python",
   "pygments_lexer": "ipython2",
   "version": "2.7.6"
  }
 },
 "nbformat": 4,
 "nbformat_minor": 0
}