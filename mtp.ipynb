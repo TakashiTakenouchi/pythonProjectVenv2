{
 "cells": [
  {
   "cell_type": "code",
   "execution_count": 1,
   "metadata": {
    "collapsed": true
   },
   "outputs": [],
   "source": [
    "import numpy as np\n",
    "import pandas as pd\n",
    "import matplotlib.pyplot as plt"
   ]
  },
  {
   "cell_type": "code",
   "execution_count": 2,
   "outputs": [
    {
     "data": {
      "text/plain": "   shop_Code shopname        Date  Total SalesE  gross profit  discount  \\\n0        Z01      恵比寿   2019/4/30      27283302      13419629   2304441   \n1        Z01      恵比寿   2019/5/30      31375798      13357385   4650106   \n2        Z01      恵比寿   2019/6/30      33285631      16357959   2811418   \n3        Z01      恵比寿   2019/7/30      35468295      17430608   2995775   \n4        Z01      恵比寿   2019/8/30      23501887      10709625   2829187   \n..       ...      ...         ...           ...           ...       ...   \n85       Z02     横浜元町   2022/8/30      29543069       7438043   7628922   \n86       Z02     横浜元町   2022/9/30      27796844       8007859   6168530   \n87       Z02     横浜元町  2022/10/30      38945582      12378072   7424084   \n88       Z02     横浜元町  2022/11/30      39489013      12199834   7939565   \n89       Z02     横浜元町  2022/12/30      31489314      10018851   6024642   \n\n    purchasing  値入  粗利  Operating_profit  ...  WOMEN'S_SCARF & STOLES  \\\n0     11559232   0   1           1345435  ...                  845782   \n1     13368307   0   1            877776  ...                  972650   \n2     14116254   0   1           3783377  ...                 1031855   \n3     15041912   0   1           4625582  ...                 1099517   \n4      9963075   0   1           -677514  ...                  659710   \n..         ...  ..  ..               ...  ...                     ...   \n85    14476104   0   1            728710  ...                  771925   \n86    13620455   0   1           1298526  ...                  735958   \n87    19143426   0   1           5668738  ...                  733979   \n88    19349614   0   1           5490501  ...                  732529   \n89    15445821   0   1           3309518  ...                  731822   \n\n    WOMEN'S_SCARF & STOLES仕入れ  WOMEN'S_SCARF & STOLES値引き  \\\n0                      357188                      71438   \n1                      410767                     113153   \n2                      435770                      87154   \n3                      464345                      92869   \n4                      278607                      55721   \n..                        ...                        ...   \n85                     378243                     199157   \n86                     360620                     132472   \n87                     359650                     132116   \n88                     358939                     131855   \n89                     358593                     131728   \n\n    WOMEN'S_SCARF & STOLES粗利  Inventory  Months of inventory       BEP  \\\n0                          0  109133212                    4  24480359   \n1                          0   94127395                    3  25302335   \n2                          0   66571259                    2  25494893   \n3                          0   70936588                    2  25962119   \n4                          0   42561953                    2  23087362   \n..                       ...        ...                  ...       ...   \n85                         0   37080074                    1  26648715   \n86                         0   35136318                    1  23289407   \n87                         0   34124690                    1  21109821   \n88                         0   33080366                    1  21717094   \n89                         0   32093336                    1  21087478   \n\n    Average Temperature  Number of guests  Price per customer  \n0                    14               823               33151  \n1                    18              1078               29106  \n2                    21               987               33724  \n3                    25              1094               32421  \n4                    27               656               32441  \n..                  ...               ...                 ...  \n85                   28               749               39443  \n86                   24               866               32098  \n87                   18              1016               38332  \n88                   12              1152               34279  \n89                    5              1505               20923  \n\n[90 rows x 73 columns]",
      "text/html": "<div>\n<style scoped>\n    .dataframe tbody tr th:only-of-type {\n        vertical-align: middle;\n    }\n\n    .dataframe tbody tr th {\n        vertical-align: top;\n    }\n\n    .dataframe thead th {\n        text-align: right;\n    }\n</style>\n<table border=\"1\" class=\"dataframe\">\n  <thead>\n    <tr style=\"text-align: right;\">\n      <th></th>\n      <th>shop_Code</th>\n      <th>shopname</th>\n      <th>Date</th>\n      <th>Total SalesE</th>\n      <th>gross profit</th>\n      <th>discount</th>\n      <th>purchasing</th>\n      <th>値入</th>\n      <th>粗利</th>\n      <th>Operating_profit</th>\n      <th>...</th>\n      <th>WOMEN'S_SCARF &amp; STOLES</th>\n      <th>WOMEN'S_SCARF &amp; STOLES仕入れ</th>\n      <th>WOMEN'S_SCARF &amp; STOLES値引き</th>\n      <th>WOMEN'S_SCARF &amp; STOLES粗利</th>\n      <th>Inventory</th>\n      <th>Months of inventory</th>\n      <th>BEP</th>\n      <th>Average Temperature</th>\n      <th>Number of guests</th>\n      <th>Price per customer</th>\n    </tr>\n  </thead>\n  <tbody>\n    <tr>\n      <th>0</th>\n      <td>Z01</td>\n      <td>恵比寿</td>\n      <td>2019/4/30</td>\n      <td>27283302</td>\n      <td>13419629</td>\n      <td>2304441</td>\n      <td>11559232</td>\n      <td>0</td>\n      <td>1</td>\n      <td>1345435</td>\n      <td>...</td>\n      <td>845782</td>\n      <td>357188</td>\n      <td>71438</td>\n      <td>0</td>\n      <td>109133212</td>\n      <td>4</td>\n      <td>24480359</td>\n      <td>14</td>\n      <td>823</td>\n      <td>33151</td>\n    </tr>\n    <tr>\n      <th>1</th>\n      <td>Z01</td>\n      <td>恵比寿</td>\n      <td>2019/5/30</td>\n      <td>31375798</td>\n      <td>13357385</td>\n      <td>4650106</td>\n      <td>13368307</td>\n      <td>0</td>\n      <td>1</td>\n      <td>877776</td>\n      <td>...</td>\n      <td>972650</td>\n      <td>410767</td>\n      <td>113153</td>\n      <td>0</td>\n      <td>94127395</td>\n      <td>3</td>\n      <td>25302335</td>\n      <td>18</td>\n      <td>1078</td>\n      <td>29106</td>\n    </tr>\n    <tr>\n      <th>2</th>\n      <td>Z01</td>\n      <td>恵比寿</td>\n      <td>2019/6/30</td>\n      <td>33285631</td>\n      <td>16357959</td>\n      <td>2811418</td>\n      <td>14116254</td>\n      <td>0</td>\n      <td>1</td>\n      <td>3783377</td>\n      <td>...</td>\n      <td>1031855</td>\n      <td>435770</td>\n      <td>87154</td>\n      <td>0</td>\n      <td>66571259</td>\n      <td>2</td>\n      <td>25494893</td>\n      <td>21</td>\n      <td>987</td>\n      <td>33724</td>\n    </tr>\n    <tr>\n      <th>3</th>\n      <td>Z01</td>\n      <td>恵比寿</td>\n      <td>2019/7/30</td>\n      <td>35468295</td>\n      <td>17430608</td>\n      <td>2995775</td>\n      <td>15041912</td>\n      <td>0</td>\n      <td>1</td>\n      <td>4625582</td>\n      <td>...</td>\n      <td>1099517</td>\n      <td>464345</td>\n      <td>92869</td>\n      <td>0</td>\n      <td>70936588</td>\n      <td>2</td>\n      <td>25962119</td>\n      <td>25</td>\n      <td>1094</td>\n      <td>32421</td>\n    </tr>\n    <tr>\n      <th>4</th>\n      <td>Z01</td>\n      <td>恵比寿</td>\n      <td>2019/8/30</td>\n      <td>23501887</td>\n      <td>10709625</td>\n      <td>2829187</td>\n      <td>9963075</td>\n      <td>0</td>\n      <td>1</td>\n      <td>-677514</td>\n      <td>...</td>\n      <td>659710</td>\n      <td>278607</td>\n      <td>55721</td>\n      <td>0</td>\n      <td>42561953</td>\n      <td>2</td>\n      <td>23087362</td>\n      <td>27</td>\n      <td>656</td>\n      <td>32441</td>\n    </tr>\n    <tr>\n      <th>...</th>\n      <td>...</td>\n      <td>...</td>\n      <td>...</td>\n      <td>...</td>\n      <td>...</td>\n      <td>...</td>\n      <td>...</td>\n      <td>...</td>\n      <td>...</td>\n      <td>...</td>\n      <td>...</td>\n      <td>...</td>\n      <td>...</td>\n      <td>...</td>\n      <td>...</td>\n      <td>...</td>\n      <td>...</td>\n      <td>...</td>\n      <td>...</td>\n      <td>...</td>\n      <td>...</td>\n    </tr>\n    <tr>\n      <th>85</th>\n      <td>Z02</td>\n      <td>横浜元町</td>\n      <td>2022/8/30</td>\n      <td>29543069</td>\n      <td>7438043</td>\n      <td>7628922</td>\n      <td>14476104</td>\n      <td>0</td>\n      <td>1</td>\n      <td>728710</td>\n      <td>...</td>\n      <td>771925</td>\n      <td>378243</td>\n      <td>199157</td>\n      <td>0</td>\n      <td>37080074</td>\n      <td>1</td>\n      <td>26648715</td>\n      <td>28</td>\n      <td>749</td>\n      <td>39443</td>\n    </tr>\n    <tr>\n      <th>86</th>\n      <td>Z02</td>\n      <td>横浜元町</td>\n      <td>2022/9/30</td>\n      <td>27796844</td>\n      <td>8007859</td>\n      <td>6168530</td>\n      <td>13620455</td>\n      <td>0</td>\n      <td>1</td>\n      <td>1298526</td>\n      <td>...</td>\n      <td>735958</td>\n      <td>360620</td>\n      <td>132472</td>\n      <td>0</td>\n      <td>35136318</td>\n      <td>1</td>\n      <td>23289407</td>\n      <td>24</td>\n      <td>866</td>\n      <td>32098</td>\n    </tr>\n    <tr>\n      <th>87</th>\n      <td>Z02</td>\n      <td>横浜元町</td>\n      <td>2022/10/30</td>\n      <td>38945582</td>\n      <td>12378072</td>\n      <td>7424084</td>\n      <td>19143426</td>\n      <td>0</td>\n      <td>1</td>\n      <td>5668738</td>\n      <td>...</td>\n      <td>733979</td>\n      <td>359650</td>\n      <td>132116</td>\n      <td>0</td>\n      <td>34124690</td>\n      <td>1</td>\n      <td>21109821</td>\n      <td>18</td>\n      <td>1016</td>\n      <td>38332</td>\n    </tr>\n    <tr>\n      <th>88</th>\n      <td>Z02</td>\n      <td>横浜元町</td>\n      <td>2022/11/30</td>\n      <td>39489013</td>\n      <td>12199834</td>\n      <td>7939565</td>\n      <td>19349614</td>\n      <td>0</td>\n      <td>1</td>\n      <td>5490501</td>\n      <td>...</td>\n      <td>732529</td>\n      <td>358939</td>\n      <td>131855</td>\n      <td>0</td>\n      <td>33080366</td>\n      <td>1</td>\n      <td>21717094</td>\n      <td>12</td>\n      <td>1152</td>\n      <td>34279</td>\n    </tr>\n    <tr>\n      <th>89</th>\n      <td>Z02</td>\n      <td>横浜元町</td>\n      <td>2022/12/30</td>\n      <td>31489314</td>\n      <td>10018851</td>\n      <td>6024642</td>\n      <td>15445821</td>\n      <td>0</td>\n      <td>1</td>\n      <td>3309518</td>\n      <td>...</td>\n      <td>731822</td>\n      <td>358593</td>\n      <td>131728</td>\n      <td>0</td>\n      <td>32093336</td>\n      <td>1</td>\n      <td>21087478</td>\n      <td>5</td>\n      <td>1505</td>\n      <td>20923</td>\n    </tr>\n  </tbody>\n</table>\n<p>90 rows × 73 columns</p>\n</div>"
     },
     "execution_count": 2,
     "metadata": {},
     "output_type": "execute_result"
    }
   ],
   "source": [
    "df_Ebisu=pd.read_csv(\"C:/Users/ttake/Documents/MBS_Lessons/MBS2022/DataSet/恵比寿店_横浜元町店_商品カテゴリ比較データ20221230ver4.csv\",\n",
    "                     dtype={\"Total SalesE\": int, \"Mens_JACKETS\": int, \"Mens_OUTER\": int,\"Mens_CUT&SEWN\" :int,\"gross profit\":int},encoding=\"cp932\")\n",
    "df_Ebisu"
   ],
   "metadata": {
    "collapsed": false,
    "pycharm": {
     "name": "#%%\n"
    }
   }
  },
  {
   "cell_type": "code",
   "execution_count": 3,
   "outputs": [
    {
     "data": {
      "text/plain": "   shop_Code shopname        Date  Total SalesE  gross profit  discount  \\\n0        Z01      恵比寿   2019/4/30      27283302      13419629   2304441   \n1        Z01      恵比寿   2019/5/30      31375798      13357385   4650106   \n2        Z01      恵比寿   2019/6/30      33285631      16357959   2811418   \n3        Z01      恵比寿   2019/7/30      35468295      17430608   2995775   \n4        Z01      恵比寿   2019/8/30      23501887      10709625   2829187   \n..       ...      ...         ...           ...           ...       ...   \n85       Z02     横浜元町   2022/8/30      29543069       7438043   7628922   \n86       Z02     横浜元町   2022/9/30      27796844       8007859   6168530   \n87       Z02     横浜元町  2022/10/30      38945582      12378072   7424084   \n88       Z02     横浜元町  2022/11/30      39489013      12199834   7939565   \n89       Z02     横浜元町  2022/12/30      31489314      10018851   6024642   \n\n    purchasing  値入  粗利  Operating_profit  ...  WOMEN'S_SCARF & STOLES粗利  \\\n0     11559232   0   1           1345435  ...                         0   \n1     13368307   0   1            877776  ...                         0   \n2     14116254   0   1           3783377  ...                         0   \n3     15041912   0   1           4625582  ...                         0   \n4      9963075   0   1           -677514  ...                         0   \n..         ...  ..  ..               ...  ...                       ...   \n85    14476104   0   1            728710  ...                         0   \n86    13620455   0   1           1298526  ...                         0   \n87    19143426   0   1           5668738  ...                         0   \n88    19349614   0   1           5490501  ...                         0   \n89    15445821   0   1           3309518  ...                         0   \n\n    Inventory  Months of inventory       BEP  Average Temperature  \\\n0   109133212                    4  24480359                   14   \n1    94127395                    3  25302335                   18   \n2    66571259                    2  25494893                   21   \n3    70936588                    2  25962119                   25   \n4    42561953                    2  23087362                   27   \n..        ...                  ...       ...                  ...   \n85   37080074                    1  26648715                   28   \n86   35136318                    1  23289407                   24   \n87   34124690                    1  21109821                   18   \n88   33080366                    1  21717094                   12   \n89   32093336                    1  21087478                    5   \n\n    Number of guests  Price per customer  New_Mens_Jacket  New_Womens_Jacket  \\\n0                823               33151          5427946            8626980   \n1               1078               29106          7392138           10921027   \n2                987               33724          6842094           11524917   \n3               1094               32421          7356331           12215075   \n4                656               32441          4234708            9729045   \n..               ...                 ...              ...                ...   \n85               749               39443          7124929           12896572   \n86               866               32098          7089577           10470218   \n87              1016               38332         11122632           15080507   \n88              1152               34279         10992212           15623048   \n89              1505               20923         10958607           10609080   \n\n    New_WOMEN’S_SKIRTS  \n0              3044816  \n1              3501539  \n2              3714677  \n3              3958261  \n4              2374957  \n..                 ...  \n85             1510275  \n86             2387814  \n87             2896670  \n88             2898849  \n89             2116217  \n\n[90 rows x 76 columns]",
      "text/html": "<div>\n<style scoped>\n    .dataframe tbody tr th:only-of-type {\n        vertical-align: middle;\n    }\n\n    .dataframe tbody tr th {\n        vertical-align: top;\n    }\n\n    .dataframe thead th {\n        text-align: right;\n    }\n</style>\n<table border=\"1\" class=\"dataframe\">\n  <thead>\n    <tr style=\"text-align: right;\">\n      <th></th>\n      <th>shop_Code</th>\n      <th>shopname</th>\n      <th>Date</th>\n      <th>Total SalesE</th>\n      <th>gross profit</th>\n      <th>discount</th>\n      <th>purchasing</th>\n      <th>値入</th>\n      <th>粗利</th>\n      <th>Operating_profit</th>\n      <th>...</th>\n      <th>WOMEN'S_SCARF &amp; STOLES粗利</th>\n      <th>Inventory</th>\n      <th>Months of inventory</th>\n      <th>BEP</th>\n      <th>Average Temperature</th>\n      <th>Number of guests</th>\n      <th>Price per customer</th>\n      <th>New_Mens_Jacket</th>\n      <th>New_Womens_Jacket</th>\n      <th>New_WOMEN’S_SKIRTS</th>\n    </tr>\n  </thead>\n  <tbody>\n    <tr>\n      <th>0</th>\n      <td>Z01</td>\n      <td>恵比寿</td>\n      <td>2019/4/30</td>\n      <td>27283302</td>\n      <td>13419629</td>\n      <td>2304441</td>\n      <td>11559232</td>\n      <td>0</td>\n      <td>1</td>\n      <td>1345435</td>\n      <td>...</td>\n      <td>0</td>\n      <td>109133212</td>\n      <td>4</td>\n      <td>24480359</td>\n      <td>14</td>\n      <td>823</td>\n      <td>33151</td>\n      <td>5427946</td>\n      <td>8626980</td>\n      <td>3044816</td>\n    </tr>\n    <tr>\n      <th>1</th>\n      <td>Z01</td>\n      <td>恵比寿</td>\n      <td>2019/5/30</td>\n      <td>31375798</td>\n      <td>13357385</td>\n      <td>4650106</td>\n      <td>13368307</td>\n      <td>0</td>\n      <td>1</td>\n      <td>877776</td>\n      <td>...</td>\n      <td>0</td>\n      <td>94127395</td>\n      <td>3</td>\n      <td>25302335</td>\n      <td>18</td>\n      <td>1078</td>\n      <td>29106</td>\n      <td>7392138</td>\n      <td>10921027</td>\n      <td>3501539</td>\n    </tr>\n    <tr>\n      <th>2</th>\n      <td>Z01</td>\n      <td>恵比寿</td>\n      <td>2019/6/30</td>\n      <td>33285631</td>\n      <td>16357959</td>\n      <td>2811418</td>\n      <td>14116254</td>\n      <td>0</td>\n      <td>1</td>\n      <td>3783377</td>\n      <td>...</td>\n      <td>0</td>\n      <td>66571259</td>\n      <td>2</td>\n      <td>25494893</td>\n      <td>21</td>\n      <td>987</td>\n      <td>33724</td>\n      <td>6842094</td>\n      <td>11524917</td>\n      <td>3714677</td>\n    </tr>\n    <tr>\n      <th>3</th>\n      <td>Z01</td>\n      <td>恵比寿</td>\n      <td>2019/7/30</td>\n      <td>35468295</td>\n      <td>17430608</td>\n      <td>2995775</td>\n      <td>15041912</td>\n      <td>0</td>\n      <td>1</td>\n      <td>4625582</td>\n      <td>...</td>\n      <td>0</td>\n      <td>70936588</td>\n      <td>2</td>\n      <td>25962119</td>\n      <td>25</td>\n      <td>1094</td>\n      <td>32421</td>\n      <td>7356331</td>\n      <td>12215075</td>\n      <td>3958261</td>\n    </tr>\n    <tr>\n      <th>4</th>\n      <td>Z01</td>\n      <td>恵比寿</td>\n      <td>2019/8/30</td>\n      <td>23501887</td>\n      <td>10709625</td>\n      <td>2829187</td>\n      <td>9963075</td>\n      <td>0</td>\n      <td>1</td>\n      <td>-677514</td>\n      <td>...</td>\n      <td>0</td>\n      <td>42561953</td>\n      <td>2</td>\n      <td>23087362</td>\n      <td>27</td>\n      <td>656</td>\n      <td>32441</td>\n      <td>4234708</td>\n      <td>9729045</td>\n      <td>2374957</td>\n    </tr>\n    <tr>\n      <th>...</th>\n      <td>...</td>\n      <td>...</td>\n      <td>...</td>\n      <td>...</td>\n      <td>...</td>\n      <td>...</td>\n      <td>...</td>\n      <td>...</td>\n      <td>...</td>\n      <td>...</td>\n      <td>...</td>\n      <td>...</td>\n      <td>...</td>\n      <td>...</td>\n      <td>...</td>\n      <td>...</td>\n      <td>...</td>\n      <td>...</td>\n      <td>...</td>\n      <td>...</td>\n      <td>...</td>\n    </tr>\n    <tr>\n      <th>85</th>\n      <td>Z02</td>\n      <td>横浜元町</td>\n      <td>2022/8/30</td>\n      <td>29543069</td>\n      <td>7438043</td>\n      <td>7628922</td>\n      <td>14476104</td>\n      <td>0</td>\n      <td>1</td>\n      <td>728710</td>\n      <td>...</td>\n      <td>0</td>\n      <td>37080074</td>\n      <td>1</td>\n      <td>26648715</td>\n      <td>28</td>\n      <td>749</td>\n      <td>39443</td>\n      <td>7124929</td>\n      <td>12896572</td>\n      <td>1510275</td>\n    </tr>\n    <tr>\n      <th>86</th>\n      <td>Z02</td>\n      <td>横浜元町</td>\n      <td>2022/9/30</td>\n      <td>27796844</td>\n      <td>8007859</td>\n      <td>6168530</td>\n      <td>13620455</td>\n      <td>0</td>\n      <td>1</td>\n      <td>1298526</td>\n      <td>...</td>\n      <td>0</td>\n      <td>35136318</td>\n      <td>1</td>\n      <td>23289407</td>\n      <td>24</td>\n      <td>866</td>\n      <td>32098</td>\n      <td>7089577</td>\n      <td>10470218</td>\n      <td>2387814</td>\n    </tr>\n    <tr>\n      <th>87</th>\n      <td>Z02</td>\n      <td>横浜元町</td>\n      <td>2022/10/30</td>\n      <td>38945582</td>\n      <td>12378072</td>\n      <td>7424084</td>\n      <td>19143426</td>\n      <td>0</td>\n      <td>1</td>\n      <td>5668738</td>\n      <td>...</td>\n      <td>0</td>\n      <td>34124690</td>\n      <td>1</td>\n      <td>21109821</td>\n      <td>18</td>\n      <td>1016</td>\n      <td>38332</td>\n      <td>11122632</td>\n      <td>15080507</td>\n      <td>2896670</td>\n    </tr>\n    <tr>\n      <th>88</th>\n      <td>Z02</td>\n      <td>横浜元町</td>\n      <td>2022/11/30</td>\n      <td>39489013</td>\n      <td>12199834</td>\n      <td>7939565</td>\n      <td>19349614</td>\n      <td>0</td>\n      <td>1</td>\n      <td>5490501</td>\n      <td>...</td>\n      <td>0</td>\n      <td>33080366</td>\n      <td>1</td>\n      <td>21717094</td>\n      <td>12</td>\n      <td>1152</td>\n      <td>34279</td>\n      <td>10992212</td>\n      <td>15623048</td>\n      <td>2898849</td>\n    </tr>\n    <tr>\n      <th>89</th>\n      <td>Z02</td>\n      <td>横浜元町</td>\n      <td>2022/12/30</td>\n      <td>31489314</td>\n      <td>10018851</td>\n      <td>6024642</td>\n      <td>15445821</td>\n      <td>0</td>\n      <td>1</td>\n      <td>3309518</td>\n      <td>...</td>\n      <td>0</td>\n      <td>32093336</td>\n      <td>1</td>\n      <td>21087478</td>\n      <td>5</td>\n      <td>1505</td>\n      <td>20923</td>\n      <td>10958607</td>\n      <td>10609080</td>\n      <td>2116217</td>\n    </tr>\n  </tbody>\n</table>\n<p>90 rows × 76 columns</p>\n</div>"
     },
     "execution_count": 3,
     "metadata": {},
     "output_type": "execute_result"
    }
   ],
   "source": [
    "df_Ebisu[\"New_Mens_Jacket\"]=df_Ebisu[\"Mens_OUTER\"]+df_Ebisu[\"Mens_CUT&SEWN\"]+df_Ebisu[\"Mens_SHIRTS\"]+df_Ebisu[\"Mens_JACKETS\"]\n",
    "df_Ebisu[\"New_Womens_Jacket\"]=df_Ebisu[\"WOMEN'S_JACKETS\"]+df_Ebisu[\"WOMEN'S_OUTER\"]+df_Ebisu[\"WOMEN'S_TOPS\"]\n",
    "df_Ebisu[\"New_WOMEN’S_SKIRTS\"]=df_Ebisu[\"WOMEN'S_SCARF & STOLES\"]+df_Ebisu[\"WOMEN'S_SKIRTS\"]\n",
    "df_Ebisu"
   ],
   "metadata": {
    "collapsed": false,
    "pycharm": {
     "name": "#%%\n"
    }
   }
  },
  {
   "cell_type": "code",
   "execution_count": 4,
   "outputs": [],
   "source": [
    "df_Ebisu.to_csv(\"C:/Users/ttake/Documents/MBS_Lessons/MBS2022/DataSet/Test_Ebisu.csv\",encoding=\"cp932\")"
   ],
   "metadata": {
    "collapsed": false,
    "pycharm": {
     "name": "#%%\n"
    }
   }
  },
  {
   "cell_type": "markdown",
   "source": [
    "### 問題定義\n",
    "2022年10月、11月、12月のジャケットの販売数量を儲けを最大化する販売計画をたてたい\n",
    "### 目的関数\n",
    "- **Total profit**. 月次の合計期待利益を最大化\n",
    "\n",
    "### データ集合とインデックス\n",
    "$k \\in K$: Index and set of clusters.\n",
    "\n",
    "$j \\in J$: Index and set of products."
   ],
   "metadata": {
    "collapsed": false,
    "pycharm": {
     "name": "#%% md\n"
    }
   }
  },
  {
   "cell_type": "code",
   "execution_count": 5,
   "outputs": [
    {
     "data": {
      "text/plain": "array([[1., 1., 1., 1., 1., 1., 1., 1., 1., 1., 1., 1., 1., 1., 1., 1.,\n        1., 1., 1., 1., 1., 1., 1., 1., 1., 1., 1., 1., 1., 1.],\n       [1., 1., 1., 1., 1., 1., 1., 1., 1., 1., 1., 1., 1., 1., 1., 1.,\n        1., 1., 1., 1., 1., 1., 1., 1., 1., 1., 1., 1., 1., 1.]])"
     },
     "execution_count": 5,
     "metadata": {},
     "output_type": "execute_result"
    }
   ],
   "source": [
    "i=2\n",
    "j=31\n",
    "import gurobipy as gp\n",
    "from gurobipy import GRB, Model\n",
    "\n",
    "# model = Model(\"MBS\")\n",
    "# price = model.addVar(vtype=\"I\")\n",
    "# n=31\n",
    "# for i in range(n):\n",
    "#     x[i,j]=model.addVar(obj=price[i,j],vtype=\"I\",name=\"x\"+str(i)+str(j))\n",
    "# model.update\n",
    "L=np.ones((2,30))\n",
    "L"
   ],
   "metadata": {
    "collapsed": false,
    "pycharm": {
     "name": "#%%\n"
    }
   }
  },
  {
   "cell_type": "code",
   "execution_count": 6,
   "outputs": [
    {
     "name": "stdout",
     "output_type": "stream",
     "text": [
      "[1. 1. 1. 1. 1. 1. 1. 1. 1. 1. 1. 1. 1. 1. 1. 1. 1. 1. 1. 1. 1. 1. 1. 1.\n",
      " 1. 1. 1. 1. 1. 1.]\n",
      "[1. 1. 1. 1. 1. 1. 1. 1. 1. 1. 1. 1. 1. 1. 1. 1. 1. 1. 1. 1. 1. 1. 1. 1.\n",
      " 1. 1. 1. 1. 1. 1.]\n"
     ]
    }
   ],
   "source": [
    "L=np.ones((2,30))\n",
    "# D=[]\n",
    "for x in L:\n",
    "    print(x)"
   ],
   "metadata": {
    "collapsed": false,
    "pycharm": {
     "name": "#%%\n"
    }
   }
  },
  {
   "cell_type": "code",
   "execution_count": 7,
   "outputs": [],
   "source": [
    "L2=np.ones((0,30))\n",
    "index = 0\n",
    "for item in L2:\n",
    "    print(f\"index:{str(index)},値：{item}\")\n",
    "    index += 1\n"
   ],
   "metadata": {
    "collapsed": false,
    "pycharm": {
     "name": "#%%\n"
    }
   }
  },
  {
   "cell_type": "code",
   "execution_count": 8,
   "outputs": [],
   "source": [
    "L2=np.ones((0,30))\n",
    "for index,item in enumerate(L2):\n",
    "    print(f\"index:{str(index)},値：{item}\")\n"
   ],
   "metadata": {
    "collapsed": false,
    "pycharm": {
     "name": "#%%\n"
    }
   }
  },
  {
   "cell_type": "code",
   "execution_count": 9,
   "outputs": [],
   "source": [
    "a1=range(0,30)"
   ],
   "metadata": {
    "collapsed": false,
    "pycharm": {
     "name": "#%%\n"
    }
   }
  },
  {
   "cell_type": "code",
   "execution_count": 10,
   "outputs": [],
   "source": [
    "a2=[(0*1) for i in a1]"
   ],
   "metadata": {
    "collapsed": false,
    "pycharm": {
     "name": "#%%\n"
    }
   }
  },
  {
   "cell_type": "code",
   "execution_count": 11,
   "outputs": [
    {
     "name": "stdout",
     "output_type": "stream",
     "text": [
      "[[1. 1. 1. 1. 1. 1. 1. 1. 1. 1. 1. 1. 1. 1. 1. 1. 1. 1. 1. 1. 1. 1. 1. 1.\n",
      "  1. 1. 1. 1. 1. 1.]\n",
      " [1. 1. 1. 1. 1. 1. 1. 1. 1. 1. 1. 1. 1. 1. 1. 1. 1. 1. 1. 1. 1. 1. 1. 1.\n",
      "  1. 1. 1. 1. 1. 1.]]\n"
     ]
    }
   ],
   "source": [
    "# Base_Jacket=np.arange(60).reshape(2,30)\n",
    "Base_Jacket= np.ones(60).reshape(2,30)\n",
    "print(Base_Jacket)"
   ],
   "metadata": {
    "collapsed": false,
    "pycharm": {
     "name": "#%%\n"
    }
   }
  },
  {
   "cell_type": "code",
   "execution_count": 12,
   "outputs": [
    {
     "data": {
      "text/plain": "array([[1., 1., 1., 1., 1., 1., 1., 1., 1., 1., 1., 1., 1., 1., 1., 1.,\n        1., 1., 1., 1., 1., 1., 1., 1., 1., 1., 1., 1., 1., 1.],\n       [1., 1., 1., 1., 1., 1., 1., 1., 1., 1., 1., 1., 1., 1., 1., 1.,\n        1., 1., 1., 1., 1., 1., 1., 1., 1., 1., 1., 1., 1., 1.]])"
     },
     "execution_count": 12,
     "metadata": {},
     "output_type": "execute_result"
    }
   ],
   "source": [
    "Base_Jacket\n"
   ],
   "metadata": {
    "collapsed": false,
    "pycharm": {
     "name": "#%%\n"
    }
   }
  },
  {
   "cell_type": "code",
   "execution_count": 13,
   "outputs": [],
   "source": [
    "Base_Jacket=Base_Jacket*77000"
   ],
   "metadata": {
    "collapsed": false,
    "pycharm": {
     "name": "#%%\n"
    }
   }
  },
  {
   "cell_type": "code",
   "execution_count": 14,
   "outputs": [
    {
     "name": "stdout",
     "output_type": "stream",
     "text": [
      "じゃyケット合計-292113.0\n"
     ]
    }
   ],
   "source": [
    "Oct=4327887\n",
    "Sale_Jacket=0\n",
    "for i in Base_Jacket:\n",
    "    val=sum(i)\n",
    "    Sale_Jacket_ALL=Sale_Jacket+val\n",
    "    Sale_Jacket=Sale_Jacket_ALL\n",
    "else:\n",
    "    print(f\"じゃyケット合計{Oct-Sale_Jacket_ALL}\")\n",
    "# Sale_Jacket=sum((Base_Jacket))\n",
    "# Sale_Jacket"
   ],
   "metadata": {
    "collapsed": false,
    "pycharm": {
     "name": "#%%\n"
    }
   }
  },
  {
   "cell_type": "code",
   "execution_count": 15,
   "outputs": [
    {
     "name": "stdout",
     "output_type": "stream",
     "text": [
      "Gurobi Optimizer version 10.0.0 build v10.0.0rc2 (win64)\n",
      "\n",
      "CPU model: Intel(R) Xeon(R) W-10885M CPU @ 2.40GHz, instruction set [SSE2|AVX|AVX2]\n",
      "Thread count: 8 physical cores, 16 logical processors, using up to 16 threads\n",
      "\n",
      "Optimize a model with 0 rows, 0 columns and 0 nonzeros\n",
      "Model fingerprint: 0x3a4d0167\n",
      "Coefficient statistics:\n",
      "  Matrix range     [0e+00, 0e+00]\n",
      "  Objective range  [0e+00, 0e+00]\n",
      "  Bounds range     [0e+00, 0e+00]\n",
      "  RHS range        [0e+00, 0e+00]\n",
      "Presolve time: 0.01s\n",
      "Presolve: All rows and columns removed\n",
      "Iteration    Objective       Primal Inf.    Dual Inf.      Time\n",
      "       0    2.9211300e+05   0.000000e+00   0.000000e+00      0s\n",
      "\n",
      "Solved in 0 iterations and 0.02 seconds (0.00 work units)\n",
      "Optimal objective  2.921130000e+05\n",
      "Optimal value=292113.0\n"
     ]
    }
   ],
   "source": [
    "Total_Sales = gp.Model('Sales Planning I')\n",
    "Sale_Jacket=0\n",
    "for i in Base_Jacket:\n",
    "    val=sum(i)\n",
    "    Sale_Jacket_ALL=Sale_Jacket+val\n",
    "    Sale_Jacket=Sale_Jacket_ALL\n",
    "else:\n",
    "    obj=Sale_Jacket_ALL-4327887\n",
    "Total_Sales.setObjective(obj, GRB.MINIMIZE)\n",
    "Total_Sales.optimize()\n",
    "Total_Sales.update()\n",
    "print(f\"Optimal value={Total_Sales.ObjVal}\")"
   ],
   "metadata": {
    "collapsed": false,
    "pycharm": {
     "name": "#%%\n"
    }
   }
  },
  {
   "cell_type": "markdown",
   "source": [
    "- 商品CD:36909\t\"LARDINI（ラルディーニ）イージー カシミアウールシルクソリッドジャケット A903\".\n",
    "- 粗利35530jpy\n",
    "-商品CD:36908\tタリアトーレ ジャケット ヘリンボーン\n",
    "- 粗利：20538\n",
    "- Vgross_profit_36909=35530\n",
    "- Vgross_profit_36908=20538\n",
    "- Total_profit\n",
    "- October_Sales=4327887\n",
    "- November_Sales=4435944\n",
    "- December_Sales=4752758\n",
    "-\n",
    "\n",
    "\n",
    "\n"
   ],
   "metadata": {
    "collapsed": false,
    "pycharm": {
     "name": "#%% md\n"
    }
   }
  },
  {
   "cell_type": "code",
   "execution_count": 16,
   "outputs": [
    {
     "name": "stdout",
     "output_type": "stream",
     "text": [
      "Gurobi Optimizer version 10.0.0 build v10.0.0rc2 (win64)\n",
      "\n",
      "CPU model: Intel(R) Xeon(R) W-10885M CPU @ 2.40GHz, instruction set [SSE2|AVX|AVX2]\n",
      "Thread count: 8 physical cores, 16 logical processors, using up to 16 threads\n",
      "\n",
      "Optimize a model with 2 rows, 2 columns and 4 nonzeros\n",
      "Model fingerprint: 0x55262f7e\n",
      "Variable types: 0 continuous, 2 integer (2 binary)\n",
      "Coefficient statistics:\n",
      "  Matrix range     [2e+04, 2e+05]\n",
      "  Objective range  [2e+04, 4e+04]\n",
      "  Bounds range     [1e+00, 1e+00]\n",
      "  RHS range        [4e+06, 4e+06]\n",
      "Found heuristic solution: objective 56068.000000\n",
      "\n",
      "Explored 0 nodes (0 simplex iterations) in 0.00 seconds (0.00 work units)\n",
      "Thread count was 1 (of 16 available processors)\n",
      "\n",
      "Solution count 1: 56068 \n",
      "\n",
      "Optimal solution found (tolerance 1.00e-04)\n",
      "Best objective 5.606800000000e+04, best bound 5.606800000000e+04, gap 0.0000%\n",
      "Optimal value=56068.0\n",
      "Optimal value=56068.0\n",
      "C0 1.0\n",
      "C1 1.0\n"
     ]
    }
   ],
   "source": [
    "Vgross_profit_36909=35530\n",
    "Vgross_profit_36908=20538\n",
    "October_Sales=4327887\n",
    "b=October_Sales\n",
    "def example():\n",
    "    Vgross_profit_36909=35530\n",
    "    Vgross_profit_36908=20538\n",
    "    J,v = gp.multidict({1:Vgross_profit_36909,2:Vgross_profit_36908})\n",
    "    a={(1,1):187000,(1,2):97800,(2,1):35530,(2,2):20538}\n",
    "    I,b=gp.multidict({1:4327887,2:4327887})\n",
    "    return I,J,v,a,b\n",
    "\n",
    "def MBS1(I,J,v,a,b):\n",
    "    model = Model(\"MBS1\")\n",
    "\n",
    "\n",
    "    x={}\n",
    "    for j in J:\n",
    "        x[j] = model.addVar(vtype=\"B\")\n",
    "    model.update()\n",
    "    for i in I:\n",
    "        model.addConstr(gp.quicksum(a[i,j]*x[j] for j in J)<=b[i])\n",
    "    model.setObjective(gp.quicksum(v[j]*x[j] for j in J), GRB.MAXIMIZE)\n",
    "    model.optimize()\n",
    "    # model.update()\n",
    "    print(f\"Optimal value={model.ObjVal}\")\n",
    "    return model\n",
    "if __name__ == \"__main__\":\n",
    "    I,J,v,a,b = example()\n",
    "    model = MBS1(I,J,v,a,b)\n",
    "    # model = Model(J,v,a,b)\n",
    "    # return J,v,a\n",
    "print(f\"Optimal value={model.ObjVal}\")\n",
    "for v in model.getVars():\n",
    "    print(v.VarName, v.X)\n"
   ],
   "metadata": {
    "collapsed": false,
    "pycharm": {
     "name": "#%%\n"
    }
   }
  },
  {
   "cell_type": "code",
   "execution_count": 60,
   "outputs": [
    {
     "name": "stdout",
     "output_type": "stream",
     "text": [
      "Optimal value=586872.0\n",
      "x1 36.0\n",
      "x2 36.0\n"
     ]
    }
   ],
   "source": [
    "from mypulp import*\n",
    "\n",
    "model=Model(\"Jacket1\")\n",
    "# price1=187000\n",
    "# price2=97800\n",
    "# Vgross_profit_36909=35530\n",
    "# Vgross_profit_36908=20538\n",
    "# October_Sales=4327887\n",
    "# y1 = model.addVars(0,vtype=GRB.INTEGER,name='y1')\n",
    "# y2 = model.addVars(0,vtype=GRB.INTEGER,name='y2')\n",
    "x1 = model.addVar(0,vtype=\"I\",name=\"x1\")\n",
    "x2 = model.addVar(0,vtype=\"I\",name=\"x2\")\n",
    "model.update()\n",
    "p1=20020\n",
    "p2=20020\n",
    "v1=8294\n",
    "v2=8008\n",
    "f2=1459199\n",
    "model.addConstr(p1 * x1 + p2 * x2 <= f2)\n",
    "model.addConstr(v1 * x1 + v2 * x2 <= f2)\n",
    "model.addConstr(p1 * x1 <= f2)\n",
    "model.addConstr(p2 * x2 <= f2)\n",
    "model.addConstr(x2 >= x1*(v2/v1))\n",
    "model.setObjective(v1 * x1 + v2 * x2,GRB.MAXIMIZE)\n",
    "model.optimize()\n",
    "print(f\"Optimal value={model.ObjVal}\")\n",
    "for v in model.getVars():\n",
    "    print(v.VarName, v.X)"
   ],
   "metadata": {
    "collapsed": false,
    "pycharm": {
     "name": "#%% import*\n"
    }
   }
  },
  {
   "cell_type": "code",
   "execution_count": 18,
   "outputs": [],
   "source": [
    "def objective_value(characteristic_vector, item_list, item_value):\n",
    "    obj_val = 0\n",
    "    for c, i in zip(characteristic_vector, item_list):\n",
    "        if c == 1:\n",
    "            obj_val += item_value[i]\n",
    "    return obj_val\n",
    "\n",
    "\n",
    "def is_feasible(characteristic_vector, item_list, item_size, capacity):\n",
    "    size_sum = 0\n",
    "    for c, i in zip(characteristic_vector, item_list):\n",
    "        if c == 1:\n",
    "            size_sum += item_size[i]\n",
    "    if size_sum <= capacity:\n",
    "        return True\n",
    "    else:\n",
    "        return False\n",
    "\n",
    "\n",
    "def branching_algorithm_for_01knapsack_problem(capacity, item_size, item_value):\n",
    "    item_list = sorted(item_size.keys())\n",
    "    stack = [[]]\n",
    "    best_value = 0\n",
    "    best_solution = [0 for i in item_list]\n",
    "    visited_node = 0\n",
    "    while len(stack) > 0:\n",
    "        v = stack.pop()\n",
    "        visited_node += 1\n",
    "        if len(v) == len(item_list): # すべての変数の0-1が決まったら，\n",
    "            if is_feasible(v, item_list, item_size, capacity): # 実行可能性を判定し，実行可能ならば\n",
    "                obj_val = objective_value(v, item_list, item_value) # 目的関数値を計算し，\n",
    "                if obj_val > best_value: # さらに目的関数値が最良値より良ければ，最良解を更新\n",
    "                    best_value = obj_val\n",
    "                    best_solution = v\n",
    "        else:\n",
    "            stack += [v + [0]]\n",
    "            stack += [v + [1]]\n",
    "    optimum_solution_dict = {n: best_solution[i] for i, n in enumerate(item_list)}\n",
    "    return (best_value, optimum_solution_dict, visited_node)"
   ],
   "metadata": {
    "collapsed": false,
    "pycharm": {
     "name": "#%%\n"
    }
   }
  },
  {
   "cell_type": "code",
   "execution_count": 19,
   "outputs": [
    {
     "data": {
      "text/plain": "(37740, {1: 1, 2: 1}, 7)"
     },
     "execution_count": 19,
     "metadata": {},
     "output_type": "execute_result"
    }
   ],
   "source": [
    "capacity = 6668188\n",
    "item_size = {1: 41300, 2: 112000}\n",
    "item_value = {1: 4140, 2: 33600}\n",
    "branching_algorithm_for_01knapsack_problem(capacity, item_size, item_value)"
   ],
   "metadata": {
    "collapsed": false,
    "pycharm": {
     "name": "#%%\n"
    }
   }
  },
  {
   "cell_type": "code",
   "execution_count": 19,
   "outputs": [],
   "source": [],
   "metadata": {
    "collapsed": false,
    "pycharm": {
     "name": "#%%\n"
    }
   }
  }
 ],
 "metadata": {
  "kernelspec": {
   "display_name": "Python 3",
   "language": "python",
   "name": "python3"
  },
  "language_info": {
   "codemirror_mode": {
    "name": "ipython",
    "version": 2
   },
   "file_extension": ".py",
   "mimetype": "text/x-python",
   "name": "python",
   "nbconvert_exporter": "python",
   "pygments_lexer": "ipython2",
   "version": "2.7.6"
  }
 },
 "nbformat": 4,
 "nbformat_minor": 0
}